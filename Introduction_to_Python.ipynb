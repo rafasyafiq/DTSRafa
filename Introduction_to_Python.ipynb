{
 "cells": [
  {
   "cell_type": "markdown",
   "metadata": {
    "colab_type": "text",
    "id": "view-in-github"
   },
   "source": [
    "<a href=\"https://colab.research.google.com/github/rafasyafiq/DTSRafa/blob/master/Introduction_to_Python.ipynb\" target=\"_parent\"><img src=\"https://colab.research.google.com/assets/colab-badge.svg\" alt=\"Open In Colab\"/></a>"
   ]
  },
  {
   "cell_type": "markdown",
   "metadata": {
    "colab_type": "text",
    "id": "LAtAgaPrWenP"
   },
   "source": [
    "#Pengenalan Python\n",
    "Pada Materi kali ini, kita akan memulai untuk berkenalan dengan bahasa Pemrograman python, dan mengetahui hal-hal dasar yang dapat dilakukan oleh bahasa Pemrograman Python\n",
    "Beberapa hal yang akan dipelajari adalah\n",
    "*   Syntax Dasar Python\n",
    "*   Tipe Data Python\n",
    "*   Percabangan dan Perulangan\n",
    "*   Fungsi dalam Python\n",
    "\n",
    "\n",
    "\n"
   ]
  },
  {
   "cell_type": "markdown",
   "metadata": {
    "colab_type": "text",
    "id": "AI-mzdXAaukx"
   },
   "source": [
    "# Syntax Dasar Python"
   ]
  },
  {
   "cell_type": "markdown",
   "metadata": {
    "colab_type": "text",
    "id": "gAjxwEUxW-2E"
   },
   "source": [
    "## Statement\n",
    "Semua perintah yang bisa dieksekusi oleh Python disebut statement. Misalnya, a = 1 adalah sebuah statement penugasan. Selain statement penugasan ada statement lain seperti statement if, statement for, dan lain sebagainya.\n"
   ]
  },
  {
   "cell_type": "code",
   "execution_count": 0,
   "metadata": {
    "colab": {},
    "colab_type": "code",
    "collapsed": true,
    "id": "F286COI3WdI5"
   },
   "outputs": [],
   "source": [
    "#Statement Multibaris\n",
    "a = 1 + 2 + \\\n",
    "    3 + \\\n",
    "    4\n",
    "a "
   ]
  },
  {
   "cell_type": "code",
   "execution_count": 0,
   "metadata": {
    "colab": {},
    "colab_type": "code",
    "collapsed": true,
    "id": "Z3laKufFXlse"
   },
   "outputs": [],
   "source": [
    "#Statement yang ada di dalam tanda kurung [ ], { }, dan ( ) tidak memerlukan tanda \\. Contohnya:\n",
    "nama_bulan = ['Januari', 'Maret', 'Juni', 'September']\n",
    "nama_bulan"
   ]
  },
  {
   "cell_type": "markdown",
   "metadata": {
    "colab_type": "text",
    "id": "erhJZi6-YJ58"
   },
   "source": [
    "## Baris dan Indentasi\n",
    "Python tidak menggunakan tanda { } untuk menandai blok / grup kode. Blok kode di python menggunakan tanda indentasi (spasi). Jumlah spasi untuk setiap baris yang ada dalam satu blok kode harus sama. Contoh yang benar adalah sebagai berikut:"
   ]
  },
  {
   "cell_type": "code",
   "execution_count": 0,
   "metadata": {
    "colab": {},
    "colab_type": "code",
    "collapsed": true,
    "id": "EKf4S3MFYk6i"
   },
   "outputs": [],
   "source": [
    "nilai = 1+2+3\n",
    "if nilai <= 5:\n",
    "   print(\"Nilai merah\")\n",
    "   print(\"Tidak lulus\")\n",
    "else:\n",
    "   print(\"Nilai biru\")\n",
    "   print(\"Lulus\")\n"
   ]
  },
  {
   "cell_type": "markdown",
   "metadata": {
    "colab_type": "text",
    "id": "TWLBYh43ZDwb"
   },
   "source": [
    "## Tanda Kutip dalam Python\n",
    "Python menggunakan tanda kutip tunggal (‘), ganda (“), maupun triple (”’ atau “””) untuk menandai string, sepanjang stringnya diawali oleh tanda kutip yang sama di awal dan akhir string.\n",
    "\n",
    "Tanda kutip tiga digunakan untuk string multibaris. Ketiga contoh berikut, semuanya adalah benar,"
   ]
  },
  {
   "cell_type": "code",
   "execution_count": 0,
   "metadata": {
    "colab": {},
    "colab_type": "code",
    "collapsed": true,
    "id": "KXxfdZZ4ZQIQ"
   },
   "outputs": [],
   "source": [
    "kata = 'kata'\n",
    "print (kata)"
   ]
  },
  {
   "cell_type": "code",
   "execution_count": 0,
   "metadata": {
    "colab": {},
    "colab_type": "code",
    "collapsed": true,
    "id": "PNd4MjIAZd6U"
   },
   "outputs": [],
   "source": [
    "kalimat = \"Ini adalah kalimat\"\n",
    "print (kalimat)\n"
   ]
  },
  {
   "cell_type": "code",
   "execution_count": 0,
   "metadata": {
    "colab": {},
    "colab_type": "code",
    "collapsed": true,
    "id": "6JLbGlRwZwUv"
   },
   "outputs": [],
   "source": [
    "paragraf = \"\"\"Ini adalah paragraf. Paragraf\n",
    "      terdiri dari beberapa baris.\"\"\"\n",
    "print (paragraf)"
   ]
  },
  {
   "cell_type": "markdown",
   "metadata": {
    "colab_type": "text",
    "id": "hpphsO2cZ23Y"
   },
   "source": [
    "## Tanda pagar ( # ) \n",
    "digunakan untuk menandai komentar di python. Komentar tidak akan diproses oleh interpreter Python. Komentar hanya berguna untuk programmer untuk memudahkan memahami maksud dari kode."
   ]
  },
  {
   "cell_type": "code",
   "execution_count": 0,
   "metadata": {
    "colab": {},
    "colab_type": "code",
    "collapsed": true,
    "id": "0l-nCeifZ-VU"
   },
   "outputs": [],
   "source": [
    "#Ini adalah komentar\n",
    "print ('Ini adalah kode')"
   ]
  },
  {
   "cell_type": "markdown",
   "metadata": {
    "colab_type": "text",
    "id": "uOiYIPPVa0gi"
   },
   "source": [
    "# Type Data pada python\n",
    "Python memilik beberapa tipe data, pada kali ini terdapat enam tipe data yang akan dipelajari, yaitu:\n",
    "*   Number (Bilangan)\n",
    "*   String\n",
    "*   List\n",
    "*   Tuple\n",
    "*   Set\n",
    "*   Dictionary\n",
    "\n",
    "Namun sebelumnya kita akan mempelajari dulu mengenai variabel dalam python\n",
    "\n",
    "\n",
    "\n",
    "\n",
    "\n",
    "\n",
    "\n"
   ]
  },
  {
   "cell_type": "markdown",
   "metadata": {
    "colab_type": "text",
    "id": "AmnQPYtnba9-"
   },
   "source": [
    "## Variabel\n",
    "Di python, variabel tidak perlu dideklarasikan secara eksplisit. Deklarasi atau pembuatan variabel terjadi secara otomatis pada saat kita memberi (menugaskan) suatu nilai ke variabel. Tanda sama dengan ( = ) digunakan untuk memberikan nilai ke variabel."
   ]
  },
  {
   "cell_type": "code",
   "execution_count": 0,
   "metadata": {
    "colab": {},
    "colab_type": "code",
    "collapsed": true,
    "id": "EH0uINQrcE3X"
   },
   "outputs": [],
   "source": [
    "panjang = 100 # tipe data integer\n",
    "lebar = 21.5 # tipe data float\n",
    "nama = \"Umar\" # tipe string\n",
    "print(panjang)\n",
    "print(lebar)\n",
    "print(nama)"
   ]
  },
  {
   "cell_type": "markdown",
   "metadata": {
    "colab_type": "text",
    "id": "l-1JuvsAcKYm"
   },
   "source": [
    "## Number\n",
    "Tipe data bilangan yang umum ada 2 yaitu, integer dan float. Integer adalah bilangan bulat, sedangkan float adalah bilangan pecahan (desimal). Selain itu ada tipe bilangan lain, yaitu bilangan kompleks yaitu bilangan yang memiliki bagian real dan imajiner."
   ]
  },
  {
   "cell_type": "code",
   "execution_count": 0,
   "metadata": {
    "colab": {},
    "colab_type": "code",
    "collapsed": true,
    "id": "e-tkZXCRcdTk"
   },
   "outputs": [],
   "source": [
    "#Kita bisa menggunakan fungsi type() untuk mengetahui tipe data suatu objek di python.\n",
    "x = 5 \n",
    "print(x, \"tipenya adalah \", type(x))\n",
    "x = 2.0\n",
    "print(x, \"tipenya adalah \", type(x))\n",
    "x = 1+2j\n",
    "print(x, \"tipenya adalah \",type(x))"
   ]
  },
  {
   "cell_type": "markdown",
   "metadata": {
    "colab_type": "text",
    "id": "TZh_HJiycqtZ"
   },
   "source": [
    "## String\n",
    "Satu atau serangkaian karakter yang diletakkan diantara tanda kutip, baik tanda kutip tunggal ( ‘ ) maupun ganda ( ” ). Huruf, angka, maupun karakter lainnya yang digabung menjadi teks adalah contoh string.\n",
    "\n",
    "String adalah tipe data yang anggotanya berurut dan memiliki indeks. Indeks dimulai dari angka 0 bila dimulai dari depan dan -1 bila diindeks dari belakang. Tiap karakter bisa diakses menggunakan indeksnya dengan formatnamastring[indeks] . Pada string juga bisa dilakukan slicing atau mengakses sekelompok substring dengan format namastring[awal:akhir]. Untuk jelasnya bisa diperhatikan contoh berikut."
   ]
  },
  {
   "cell_type": "code",
   "execution_count": 0,
   "metadata": {
    "colab": {},
    "colab_type": "code",
    "collapsed": true,
    "id": "s_29WpVjdANc"
   },
   "outputs": [],
   "source": [
    "kalimat = \"Saya suka Makan\"\n",
    "\n",
    "print(kalimat)      # print string lengkap\n",
    "print(kalimat[0])   # print karakter pertama\n",
    "print(kalimat[-1])  # print karakter terakhir\n",
    "print(kalimat[4:7]) # print dari indeks 4 - 6\n",
    "print(kalimat[:4])  # print dari indeks 0 - 3"
   ]
  },
  {
   "cell_type": "markdown",
   "metadata": {
    "colab_type": "text",
    "id": "yq9Y-vqjdG_w"
   },
   "source": [
    "## List\n",
    "tipe data yang berisi item yang berurut. Seperti halnya tipe data string, tiap item (anggota) list memiliki indeks sesuai dengan urutannya. Indeks dimulai dari 0 dan bukan dari 1.\n",
    "\n",
    "List bisa berisi anggota dengan tipe yang sama maupun berbeda. Untuk mendeklarasikan list, digunakan tanda kurung [ ] dan masing-masing anggotanya dipisahkan oleh tanda koma."
   ]
  },
  {
   "cell_type": "markdown",
   "metadata": {
    "colab_type": "text",
    "id": "jFsfJMRbfBV5"
   },
   "source": [
    "Untuk mengakses item dari list caranya adalah dengan memanggil nama list diikuti indeks dari item yang bersangkutan, yaitu dengan format namalist[index]\n",
    "Selain itu bisa juga dilakukan pengaksesan terhadap sejumlah item dari indeks ke indeks. Hal ini disebut slicing. Contohnya sebagai berikut:"
   ]
  },
  {
   "cell_type": "code",
   "execution_count": 0,
   "metadata": {
    "colab": {},
    "colab_type": "code",
    "collapsed": true,
    "id": "n64uYTbYfGfR"
   },
   "outputs": [],
   "source": [
    "x = [5,10,15,20,25,30,35,40]\n",
    "\n",
    "# x[2] = 15\n",
    "a = x[2]\n",
    "#  x[0:3] = [5, 10, 15]\n",
    "b = x[0:3]\n",
    "# x[5:] = [30, 35, 40]\n",
    "c = x[5:]\n",
    "\n",
    "print (a,b,c)"
   ]
  },
  {
   "cell_type": "markdown",
   "metadata": {
    "colab_type": "text",
    "id": "omMTXMreflf_"
   },
   "source": [
    "## Tuple\n",
    "Jenis data lain yang mirip dengan list. Perbedaannya dengan list adalah anggotanya tidak bisa diubah (immutable). List bersifat mutable, sedangkan tuple bersifat immutable. Sekali tuple dibuat, maka isinya tidak bisa dimodifikasi lagi."
   ]
  },
  {
   "cell_type": "code",
   "execution_count": 0,
   "metadata": {
    "colab": {},
    "colab_type": "code",
    "collapsed": true,
    "id": "taMFj6d9gZNw"
   },
   "outputs": [],
   "source": [
    "white = (255,255, 255)\n",
    "red = (255,0,0)\n",
    "print(white)\n",
    "print(red[0])\n",
    "print(red[1])\n"
   ]
  },
  {
   "cell_type": "code",
   "execution_count": 0,
   "metadata": {
    "colab": {},
    "colab_type": "code",
    "collapsed": true,
    "id": "iMy1J--xgpBG"
   },
   "outputs": [],
   "source": [
    "# tuple bersifat immutable, bila kita run kode ini, akan memunculkan error\n",
    "red[0] = 128"
   ]
  },
  {
   "cell_type": "markdown",
   "metadata": {
    "colab_type": "text",
    "id": "kinQXnFbgy9Q"
   },
   "source": [
    "## Set\n",
    "Salah satu tipe data di Python yang tidak berurut (unordered).Set memiliki anggota yang unik (tidak ada duplikasi). Jadi misalnya kalau kita meletakkan dua anggota yang sama di dalam set, maka otomatis set akan menghilangkan yang salah satunya.\n",
    "\n",
    "Set dibuat dengan meletakkan anggota – anggotanya di dalam tanda kurung kurawal { }, dipisahkan menggunakan tanda koma. Kita juga bisa membuat set dari list dengan memasukkan list ke dalam fungsi set()"
   ]
  },
  {
   "cell_type": "code",
   "execution_count": 0,
   "metadata": {
    "colab": {},
    "colab_type": "code",
    "collapsed": true,
    "id": "KcazI8pNhEhC"
   },
   "outputs": [],
   "source": [
    "# set integer \n",
    "my_set = {1,2,3} \n",
    "print(my_set)"
   ]
  },
  {
   "cell_type": "code",
   "execution_count": 0,
   "metadata": {
    "colab": {},
    "colab_type": "code",
    "collapsed": true,
    "id": "BYAk_Zl9hPLV"
   },
   "outputs": [],
   "source": [
    "# set dengan menggunakan fungsi set() \n",
    "my_set = set([1,2,3]) \n",
    "print(my_set) "
   ]
  },
  {
   "cell_type": "code",
   "execution_count": 0,
   "metadata": {
    "colab": {},
    "colab_type": "code",
    "collapsed": true,
    "id": "U9wl5Oc3hSYd"
   },
   "outputs": [],
   "source": [
    "# bila kita mengisi duplikasi, set akan menghilangkan salah satu \n",
    "my_set = {1,2,2,3,3,3} \n",
    "print(my_set) "
   ]
  },
  {
   "cell_type": "markdown",
   "metadata": {
    "colab_type": "text",
    "id": "fMaUVjYVhe35"
   },
   "source": [
    "## Dictionary\n",
    "Tipe data yang tiap anggotanya terdiri dari pasangan kunci-nilai (key-value). Mirip dengan kamus dimana ada kata ada arti. Dictionary umumnya dipakai untuk data yang besar dan untuk mengakses anggota data secara acak. Anggota dictionary tidak memiliki indeks.\n",
    "\n",
    "Dictionary dideklarasikan dengan menggunakan tanda kurung kurawal { }, dimana anggotanya memiliki bentuk kunci:nilai atau key:value dan tiap anggota dipisah tanda koma. Kunci dan nilainya bisa memiliki tipe sembarang."
   ]
  },
  {
   "cell_type": "code",
   "execution_count": 0,
   "metadata": {
    "colab": {},
    "colab_type": "code",
    "collapsed": true,
    "id": "gNvA9lvgh_f4"
   },
   "outputs": [],
   "source": [
    "d = {'one':'satu', 'two':'dua', 'three':3}\n",
    "print(type(d))"
   ]
  },
  {
   "cell_type": "code",
   "execution_count": 0,
   "metadata": {
    "colab": {},
    "colab_type": "code",
    "collapsed": true,
    "id": "iMQhP60aiuJv"
   },
   "outputs": [],
   "source": [
    "#Untuk mengakses nilai dari anggota dictionary, kita menggunakan key-nya.\n",
    "a = d['one']\n",
    "b = d['two']\n",
    "\n",
    "print (a,b)"
   ]
  },
  {
   "cell_type": "markdown",
   "metadata": {
    "colab_type": "text",
    "id": "mMXntBOqjJDp"
   },
   "source": [
    "# Percabangan dan Perulangan\n"
   ]
  },
  {
   "cell_type": "markdown",
   "metadata": {
    "colab_type": "text",
    "id": "cEhlAfyWjTCR"
   },
   "source": [
    "## Percabangan\n",
    "Percabangan mengevaluasi kondisi atau ekspresi yang hasilnya benar atau salah .  Kondisi atau ekspresi tersebut disebut ekspresi boolean. Hasil dari pengecekan kondisi adalah True atau False. Bila benar (True), maka pernyataan yang ada di dalam blok kondisi tersebut akan dieksekusi. Bila salah (False), maka blok pernyataan lain yang dieksekusi.\n",
    "\n",
    "Terdapat tiga jenis percabangan dalam python, yaitu:\n",
    "1.   if ...\n",
    "2.   if ... else ...\n",
    "1.   if ... elif ... else ...\n",
    "\n"
   ]
  },
  {
   "cell_type": "markdown",
   "metadata": {
    "colab_type": "text",
    "id": "8exhvtNhj272"
   },
   "source": [
    "### Pernyataan If\n",
    "Pernyataan if menguji satu buah kondisi. Bila hasilnya benar maka pernyataan di dalam blok if tersebut dieksekusi. Bila salah, maka pernyataan tidak dieksekusi. Contoh Sintaksnya adalah seperti berikut:"
   ]
  },
  {
   "cell_type": "code",
   "execution_count": 0,
   "metadata": {
    "colab": {},
    "colab_type": "code",
    "collapsed": true,
    "id": "vPtKlY0fkAiU"
   },
   "outputs": [],
   "source": [
    "# Bila bilangan positif, tampilkan pesan\n",
    "\n",
    "angka = 5\n",
    "if angka > 0:\n",
    "    print(angka, \"adalah bilangan positif.\")"
   ]
  },
  {
   "cell_type": "code",
   "execution_count": 0,
   "metadata": {
    "colab": {},
    "colab_type": "code",
    "collapsed": true,
    "id": "UHEjk_LskXyc"
   },
   "outputs": [],
   "source": [
    "# yang berikut akan bernilai False sehingga tidak dieksekusi, karena nilai angka tidak lebih dari 0\n",
    "angka = -1\n",
    "if angka > 0:\n",
    "    print(angka, \"adalah bilangan positif.\")"
   ]
  },
  {
   "cell_type": "markdown",
   "metadata": {
    "colab_type": "text",
    "id": "tPF53Xd0kK7h"
   },
   "source": [
    "### Pernyataan if ... else\n",
    "Pernyataan if…else menguji 2 kondisi. Kondisi pertama kalau benar, dan kondisi kedua kalau salah. Sintaksnya adalah seperti berikut:\n",
    "\n"
   ]
  },
  {
   "cell_type": "code",
   "execution_count": 0,
   "metadata": {
    "colab": {},
    "colab_type": "code",
    "collapsed": true,
    "id": "5PAn1AVrku28"
   },
   "outputs": [],
   "source": [
    "# Program menguji apakah sebuah bilangan positif atau negatif dan menampilkan pesan ke monitor\n",
    "bilangan = 5\n",
    "if bilangan >= 0:\n",
    "    print(\"Positif atau Nol\")\n",
    "else:\n",
    "    print(\"Bilangan negatif\")"
   ]
  },
  {
   "cell_type": "code",
   "execution_count": 0,
   "metadata": {
    "colab": {},
    "colab_type": "code",
    "collapsed": true,
    "id": "ziPcfgBtk10A"
   },
   "outputs": [],
   "source": [
    "# Coba juga mengubah bilangan menjadi bilangan = -1 dan perhatikan hasilnya\n",
    "bilangan = -1\n",
    "if bilangan >= 0:\n",
    "    print(\"Positif atau Nol\")\n",
    "else:\n",
    "    print(\"Bilangan negatif\")"
   ]
  },
  {
   "cell_type": "markdown",
   "metadata": {
    "colab_type": "text",
    "id": "8yAsxV5bk8si"
   },
   "source": [
    "### Pernyataan if...elif...else\n",
    "Pernyataan if…elif…else digunakan untuk menguji lebih dari 2 kondisi. Bila kondisi pada if benar, maka pernyataan di dalamnya yang dieksekusi. Bila salah, maka masuk ke pengujian kondisi elif. Terakhir bila tidak ada if atau elif yang benar, maka yang dijalankan adalah yang di blok else. Sintaksnya adalah seperti berikut:"
   ]
  },
  {
   "cell_type": "code",
   "execution_count": 0,
   "metadata": {
    "colab": {},
    "colab_type": "code",
    "collapsed": true,
    "id": "1CtgtK_xlP1S"
   },
   "outputs": [],
   "source": [
    "# Di sini kita menguji apakah sebuah bilangan adalah bilangan positif, nol, atau negatif dan menampilkan hasilnya ke layar\n",
    "bilangan = 5.5\n",
    "if bilangan > 0:\n",
    "    print(\"Bilangan positif\")\n",
    "elif bilangan == 0:\n",
    "    print(\"Nol\")\n",
    "else:\n",
    "    print(\"Bilangan negatif\")"
   ]
  },
  {
   "cell_type": "code",
   "execution_count": 0,
   "metadata": {
    "colab": {},
    "colab_type": "code",
    "collapsed": true,
    "id": "VV8L4vSllZZg"
   },
   "outputs": [],
   "source": [
    "# Coba juga mengganti bilangan jadi bilangan = 0\n",
    "bilangan = 0\n",
    "if bilangan > 0:\n",
    "    print(\"Bilangan positif\")\n",
    "elif bilangan == 0:\n",
    "    print(\"Nol\")\n",
    "else:\n",
    "    print(\"Bilangan negatif\")"
   ]
  },
  {
   "cell_type": "code",
   "execution_count": 0,
   "metadata": {
    "colab": {},
    "colab_type": "code",
    "collapsed": true,
    "id": "SEsAHw7ZlcVL"
   },
   "outputs": [],
   "source": [
    "# Coba juga mengganti bilangan jadi bilangan = -5.5\n",
    "bilangan = -5.5\n",
    "if bilangan > 0:\n",
    "    print(\"Bilangan positif\")\n",
    "elif bilangan == 0:\n",
    "    print(\"Nol\")\n",
    "else:\n",
    "    print(\"Bilangan negatif\")"
   ]
  },
  {
   "cell_type": "markdown",
   "metadata": {
    "colab_type": "text",
    "id": "5IAdmCYHlrPd"
   },
   "source": [
    "## Perulangan\n",
    "Python mengeksekusi program baris perbaris. Mulai dari baris satu, dua, dan seterusnya. Ada kalanya, kita perlu mengeksekusi satu baris atau satu blok kode program beberapa kali. Hal ini disebut dengan perulangan atau biasa disebut looping atau iterasi.\n",
    "\n",
    "Di python, perulangan bisa dilakukan dengan dua cara atau metode, yaitu:\n",
    "\n",
    "1. Menggunakan for\n",
    "2. Menggunakan while"
   ]
  },
  {
   "cell_type": "markdown",
   "metadata": {
    "colab_type": "text",
    "id": "eFMZTmpmmTuG"
   },
   "source": [
    "### Perulangan dengan for\n",
    "Perulangan dengan for memiliki tambahan variabel. Variabel  digunakan untuk penampung sementara nilai dari sequence pada saat terjadi perulangan. Sequence adalah tipe data berurut seperti string, list, dan tuple.\n",
    "\n",
    "Perulangan terjadi sampai looping mencapai elemen atau anggota terakhir dari sequence. Bila loop sudah sampai ke elemen terakhir dari sequence, maka program akan keluar dari looping.\n",
    "\n",
    "contoh perulangan for adalah sebagai berikut"
   ]
  },
  {
   "cell_type": "code",
   "execution_count": 0,
   "metadata": {
    "colab": {},
    "colab_type": "code",
    "collapsed": true,
    "id": "V16Dbgg1mjFc"
   },
   "outputs": [],
   "source": [
    "# Program untuk menemukan jumlah bilangan dalam satu list\n",
    "\n",
    "# List number\n",
    "numbers = [7, 5, 9, 8, 4, 2, 6, 4, 1]\n",
    "\n",
    "# variablel untuk menyimpan jumlah\n",
    "sum = 0\n",
    "\n",
    "# iterasi\n",
    "for each in numbers:\n",
    "    sum = sum + each\n",
    "\n",
    "# Output\n",
    "print(\"Jumlah semuanya:\", sum)"
   ]
  },
  {
   "cell_type": "code",
   "execution_count": 0,
   "metadata": {
    "colab": {},
    "colab_type": "code",
    "collapsed": true,
    "id": "E5c4YtqFnLxB"
   },
   "outputs": [],
   "source": [
    "#Fungsi Range\n",
    "mapel = ['matematika', 'fisika', 'kimia']\n",
    "\n",
    "# iterasi list menggunakan indeks\n",
    "for i in range(len(mapel)):\n",
    "    print(\"Saya suka\", mapel[i])"
   ]
  },
  {
   "cell_type": "markdown",
   "metadata": {
    "colab_type": "text",
    "id": "a_MvuGwDpvOh"
   },
   "source": [
    "### Perulangan Menggunakan While\n",
    "Perulangan menggunakan while akan menjalankan blok pernyataan terus menerus selama kondisi bernilai benar.\n",
    "\n",
    "While juga memiliki input dengan nama expression. Expression merupakan ekspresi atau kondisi apa saja, dan untuk nilai selain nol dianggap True. Iterasi akan terus berlanjut selama kondisi benar. Bila kondisi salah, maka program akan keluar dari while dan lanjut ke baris pernyataan di luar while."
   ]
  },
  {
   "cell_type": "code",
   "execution_count": 0,
   "metadata": {
    "colab": {},
    "colab_type": "code",
    "collapsed": true,
    "id": "v0JDrlzyqJB6"
   },
   "outputs": [],
   "source": [
    "count = 0\n",
    "while (count < 5):\n",
    "    print('The count is:', count)\n",
    "    count = count + 1\n",
    "print('Good bye!')"
   ]
  },
  {
   "cell_type": "markdown",
   "metadata": {
    "colab_type": "text",
    "id": "BT1sPMBTqOQF"
   },
   "source": [
    "Di sini, blok pernyataan print('The count is:', count), dijalankan terus selama count masih lebih kecil dari 5. Count ditambah 1 setiap kali iterasi. Pada saat nilai count mencapai 5, maka kondisi menjadi False dan program keluar dari looping while dan melanjutkan baris selanjutnya yaitu print(\"Good bye\")."
   ]
  },
  {
   "cell_type": "markdown",
   "metadata": {
    "colab_type": "text",
    "id": "Jqbwur2OqbV8"
   },
   "source": [
    "### Kendall Looping\n",
    "Looping umumnya akan berhenti bila kondisi sudah bernilai salah. Akan tetapi, seringkali kita perlu keluar dari looping di tengah jalan tergantung keperluan. Hal ini bisa kita lakukan dengan menggunakan kata kunci break dan continue.\n",
    "\n",
    "Statement break memaksa program keluar dari blok looping di tengah jalan. Sedangkan statement continue menyebabkan program langsung melanjut ke step / interval berikutnya dan mengabaikan (skip) baris kode di bawahnya (yang satu blok). Jelasnya perhatikan contoh berikut:"
   ]
  },
  {
   "cell_type": "code",
   "execution_count": 0,
   "metadata": {
    "colab": {},
    "colab_type": "code",
    "collapsed": true,
    "id": "M8bpg5FMqj7S"
   },
   "outputs": [],
   "source": [
    "# contoh penggunaan statement break\n",
    "for letter in \"Programming\":\n",
    "    if letter == \"g\":\n",
    "        break\n",
    "    print(\"Huruf sekarang:\", letter)\n",
    "print(\"Good bye\")"
   ]
  },
  {
   "cell_type": "code",
   "execution_count": 0,
   "metadata": {
    "colab": {},
    "colab_type": "code",
    "collapsed": true,
    "id": "i9PmlhQcqmRW"
   },
   "outputs": [],
   "source": [
    "#Bila pada program di atas kita ganti kode break menjadi continue, maka hasilnya akan jadi seperti berikut:\n",
    "for letter in \"Programming\":\n",
    "    if letter == \"g\":\n",
    "        continue\n",
    "    print(\"Huruf sekarang:\", letter)\n",
    "print(\"Good bye\")"
   ]
  },
  {
   "cell_type": "markdown",
   "metadata": {
    "colab_type": "text",
    "id": "UOlbx_pKq31V"
   },
   "source": [
    "### Pernyataan While else\n",
    "Python mendukung penggunaan else sebagai pasangan dari while. Blok pernyataan else hanya akan dieksekusi bila kondisi while bernilai salah. Contohnya adalah sebagai berikut\n"
   ]
  },
  {
   "cell_type": "code",
   "execution_count": 0,
   "metadata": {
    "colab": {},
    "colab_type": "code",
    "collapsed": true,
    "id": "gYcpn5N-rAi_"
   },
   "outputs": [],
   "source": [
    "count = 0\n",
    "while (count < 5):\n",
    "    print(count, \"kurang dari 5\")\n",
    "    count = count + 1\n",
    "else:\n",
    "    print(count, \"tidak kurang dari 5\")"
   ]
  },
  {
   "cell_type": "markdown",
   "metadata": {
    "colab_type": "text",
    "id": "ile3fDt_rRC2"
   },
   "source": [
    "# Fungsi\n",
    "Fungsi adalah grup/blok program untuk melakukan tugas tertentu yang berulang. Fungsi membuat kode program menjadi reusable, artinya hanya di definisikan sekali saja, dan kemudian bisa digunakan berulang kali dari tempat lain di dalam program.\n",
    "\n",
    "\n",
    "Fungsi memecah keseluruhan program menjadi bagian – bagian yang lebih kecil . Dengan semakin besarnya program, maka fungsi akan membuatnya menjadi lebih mudah diorganisir dan dimanage.\n",
    "\n",
    "Sejauh ini, kita sudah menggunakan beberapa fungsi, misalnya fungsi print(), type(), dan sebagainya. Fungsi tersebut adalah fungsi bawaan dari Python. Kita bisa membuat fungsi kita sendiri sesuai kebutuhan.\n",
    "\n",
    "Contoh pemakaian fungsi adalah sebagai berikut:"
   ]
  },
  {
   "cell_type": "code",
   "execution_count": 0,
   "metadata": {
    "colab": {},
    "colab_type": "code",
    "collapsed": true,
    "id": "uxCjr0CurULj"
   },
   "outputs": [],
   "source": [
    "def sapa(nama): \n",
    "    \"\"\"Fungsi ini untuk menyapa seseorang sesuai nama yang dimasukkan sebagai parameter\"\"\" \n",
    "    print(\"Hi, \" + nama + \". Apa kabar?\") \n",
    "\n",
    "# pemanggilan fungsi \n",
    "sapa('Umar') "
   ]
  },
  {
   "cell_type": "markdown",
   "metadata": {
    "colab_type": "text",
    "id": "GiQWBRnvrp82"
   },
   "source": [
    "## Argumen Kata Kunci\n",
    "Argumen dengan kata kunci berkaitan dengan cara pemanggilan fungsi. Ketika menggunakan argumen dengan kata kunci, fungsi pemanggil menentukan argumen dari nama parameternya. Hal ini membuat kita bisa mengabaikan argumen atau menempatkannya dengan sembarang urutan.\n",
    "\n",
    "Python dapat menggunakan kata kunci yang disediakan untuk mencocokkan nilai sesuai dengan parameternya. Jelasnya ada pada contoh berikut:"
   ]
  },
  {
   "cell_type": "code",
   "execution_count": 0,
   "metadata": {
    "colab": {},
    "colab_type": "code",
    "collapsed": true,
    "id": "JWVbN_Y_rxbR"
   },
   "outputs": [],
   "source": [
    "# Definisi fungsi \n",
    "def print_info( nama, usia ): \n",
    "    \"\"\"Fungsi ini menampilkan info yang dimasukkan\"\"\"\n",
    "    print (\"Nama: \", nama) \n",
    "    print (\"Usia: \", usia) \n",
    "\n",
    "# Memanggil fungsi \n",
    "# output \n",
    "print_info( 25, \"Budi\" )"
   ]
  },
  {
   "cell_type": "markdown",
   "metadata": {
    "colab_type": "text",
    "id": "EIAo3znGsEDo"
   },
   "source": [
    "## Argumen Default\n",
    "Fungsi dengan argumen default menggunakan nilai default untuk argumen yang tidak diberikan nilainya pada saat pemanggilan fungsi. Pada contoh berikut, fungsi akan menampilkan usia default bila argumen usia tidak diberikan:"
   ]
  },
  {
   "cell_type": "code",
   "execution_count": 0,
   "metadata": {
    "colab": {},
    "colab_type": "code",
    "collapsed": true,
    "id": "OuEXhXfIsJfc"
   },
   "outputs": [],
   "source": [
    "# Definisi fungsi \n",
    "def print_info( nama, usia= 17 ): \n",
    "    \"\"\"Fungsi ini menampilkan info yang dimasukkan\"\"\" \n",
    "    print (\"Nama: \", nama) \n",
    "    print (\"Usia \", usia) \n",
    "\n",
    "# Pemanggilan fungsi tidak menyediakan argumen usia \n",
    "print_info( nama = \"Galih\" ) "
   ]
  },
  {
   "cell_type": "markdown",
   "metadata": {},
   "source": [
    "## Keyword Return\n",
    "\n",
    "Untuk membuat sebuah fungsi memberikan hasil berupa nilai yang selanjutnya dapat digunakan untuk proses selanjutnya diperlukan  keyword `return`. Berikut adalah contoh sebuah fungsi perkalian menggunakan keyword return:"
   ]
  },
  {
   "cell_type": "code",
   "execution_count": 1,
   "metadata": {
    "collapsed": false
   },
   "outputs": [
    {
     "name": "stdout",
     "output_type": "stream",
     "text": [
      "6\n"
     ]
    }
   ],
   "source": [
    "# Fungsi perkalian\n",
    "\n",
    "def kali(a,b):\n",
    "    c = a*b\n",
    "    return c\n",
    "# Atau\n",
    "\n",
    "def kali(a, b):\n",
    "    return a*b\n",
    "\n",
    "\n",
    "# Penerapan\n",
    "\n",
    "print(kali(2,3))"
   ]
  }
 ],
 "metadata": {
  "colab": {
   "authorship_tag": "ABX9TyPp0lYwqorbVhDv+RGaTEC6",
   "include_colab_link": true,
   "name": "Untitled1.ipynb",
   "provenance": [],
   "toc_visible": true
  },
  "kernelspec": {
   "display_name": "Python [default]",
   "language": "python",
   "name": "python3"
  },
  "language_info": {
   "codemirror_mode": {
    "name": "ipython",
    "version": 3
   },
   "file_extension": ".py",
   "mimetype": "text/x-python",
   "name": "python",
   "nbconvert_exporter": "python",
   "pygments_lexer": "ipython3",
   "version": "3.5.2"
  }
 },
 "nbformat": 4,
 "nbformat_minor": 0
}
